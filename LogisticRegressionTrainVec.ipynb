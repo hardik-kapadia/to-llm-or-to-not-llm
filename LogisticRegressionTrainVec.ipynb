{
 "cells": [
  {
   "cell_type": "code",
   "execution_count": 1,
   "metadata": {},
   "outputs": [],
   "source": [
    "from gensim.models.doc2vec import Doc2Vec, TaggedDocument\n",
    "from gensim.models import Doc2Vec\n",
    "import nltk\n",
    "from nltk.tokenize import word_tokenize, RegexpTokenizer\n",
    "from nltk.corpus import stopwords\n",
    "from sklearn import naive_bayes\n",
    "from datasets import load_dataset, Dataset\n",
    "import string\n",
    "import numpy as np"
   ]
  },
  {
   "cell_type": "code",
   "execution_count": 2,
   "metadata": {},
   "outputs": [],
   "source": [
    "from sklearn.linear_model import LogisticRegression\n",
    "from sklearn.metrics import log_loss, confusion_matrix, accuracy_score,precision_score,recall_score,f1_score"
   ]
  },
  {
   "cell_type": "code",
   "execution_count": 3,
   "metadata": {},
   "outputs": [
    {
     "name": "stderr",
     "output_type": "stream",
     "text": [
      "[nltk_data] Downloading package stopwords to\n",
      "[nltk_data]     C:\\Users\\kapsu\\AppData\\Roaming\\nltk_data...\n",
      "[nltk_data]   Package stopwords is already up-to-date!\n"
     ]
    }
   ],
   "source": [
    "nltk.download('stopwords')\n",
    "stop_words = set(stopwords.words('english'))"
   ]
  },
  {
   "cell_type": "code",
   "execution_count": 4,
   "metadata": {},
   "outputs": [
    {
     "data": {
      "application/vnd.jupyter.widget-view+json": {
       "model_id": "3bb000d692854e1981facf087f3aadee",
       "version_major": 2,
       "version_minor": 0
      },
      "text/plain": [
       "Downloading builder script:   0%|          | 0.00/4.31k [00:00<?, ?B/s]"
      ]
     },
     "metadata": {},
     "output_type": "display_data"
    },
    {
     "data": {
      "application/vnd.jupyter.widget-view+json": {
       "model_id": "54d39cd44c2d44f7ac56eceb742f3396",
       "version_major": 2,
       "version_minor": 0
      },
      "text/plain": [
       "Downloading metadata:   0%|          | 0.00/2.17k [00:00<?, ?B/s]"
      ]
     },
     "metadata": {},
     "output_type": "display_data"
    },
    {
     "data": {
      "application/vnd.jupyter.widget-view+json": {
       "model_id": "8e5372a2cfed4a4daa6917026710e448",
       "version_major": 2,
       "version_minor": 0
      },
      "text/plain": [
       "Downloading readme:   0%|          | 0.00/7.59k [00:00<?, ?B/s]"
      ]
     },
     "metadata": {},
     "output_type": "display_data"
    },
    {
     "data": {
      "application/vnd.jupyter.widget-view+json": {
       "model_id": "e7f042078376405086289e46cd8f2b79",
       "version_major": 2,
       "version_minor": 0
      },
      "text/plain": [
       "Downloading data:   0%|          | 0.00/84.1M [00:00<?, ?B/s]"
      ]
     },
     "metadata": {},
     "output_type": "display_data"
    },
    {
     "data": {
      "application/vnd.jupyter.widget-view+json": {
       "model_id": "021086fae0a74646999d33efc4c28472",
       "version_major": 2,
       "version_minor": 0
      },
      "text/plain": [
       "Generating train split:   0%|          | 0/25000 [00:00<?, ? examples/s]"
      ]
     },
     "metadata": {},
     "output_type": "display_data"
    },
    {
     "data": {
      "application/vnd.jupyter.widget-view+json": {
       "model_id": "b8ff3beab4684af78824db0a9ff563dd",
       "version_major": 2,
       "version_minor": 0
      },
      "text/plain": [
       "Generating test split:   0%|          | 0/25000 [00:00<?, ? examples/s]"
      ]
     },
     "metadata": {},
     "output_type": "display_data"
    },
    {
     "data": {
      "application/vnd.jupyter.widget-view+json": {
       "model_id": "0a5ccfd5796c4974b5efaca146cc8bb7",
       "version_major": 2,
       "version_minor": 0
      },
      "text/plain": [
       "Generating unsupervised split:   0%|          | 0/50000 [00:00<?, ? examples/s]"
      ]
     },
     "metadata": {},
     "output_type": "display_data"
    }
   ],
   "source": [
    "imdb = load_dataset('imdb',split='train')\n",
    "imdb_test = load_dataset('imdb',split='test')\n",
    "imdb_test = imdb_test.shard(5,3)"
   ]
  },
  {
   "cell_type": "code",
   "execution_count": 5,
   "metadata": {},
   "outputs": [
    {
     "data": {
      "text/plain": [
       "'!\"#$%&\\'()*+,-./:;<=>?@[\\\\]^_`{|}~'"
      ]
     },
     "execution_count": 5,
     "metadata": {},
     "output_type": "execute_result"
    }
   ],
   "source": [
    "string.punctuation"
   ]
  },
  {
   "cell_type": "code",
   "execution_count": 6,
   "metadata": {},
   "outputs": [],
   "source": [
    "docs = []"
   ]
  },
  {
   "cell_type": "code",
   "execution_count": 7,
   "metadata": {},
   "outputs": [],
   "source": [
    "def remove_stop_words_and_puncts(words):\n",
    "    f1 = [w.lower() for w in words if w.lower() not in stop_words]\n",
    "    f2 = [w for w in f1 if w not in string.punctuation]\n",
    "    return f2"
   ]
  },
  {
   "cell_type": "code",
   "execution_count": 8,
   "metadata": {},
   "outputs": [],
   "source": [
    "def process_text(text):\n",
    "    words = word_tokenize(text['text'])\n",
    "    clean_words = remove_stop_words_and_puncts(words)\n",
    "    return clean_words"
   ]
  },
  {
   "cell_type": "code",
   "execution_count": 9,
   "metadata": {},
   "outputs": [],
   "source": [
    "for example in imdb:\n",
    "    processed_text = process_text(example)\n",
    "    td = TaggedDocument(processed_text,[example['label']])\n",
    "    docs.append(td)"
   ]
  },
  {
   "cell_type": "code",
   "execution_count": 10,
   "metadata": {},
   "outputs": [
    {
     "name": "stdout",
     "output_type": "stream",
     "text": [
      "25000\n"
     ]
    }
   ],
   "source": [
    "print(len(docs))"
   ]
  },
  {
   "cell_type": "code",
   "execution_count": 11,
   "metadata": {},
   "outputs": [
    {
     "name": "stdout",
     "output_type": "stream",
     "text": [
      "TaggedDocument<['would', 'put', 'top', 'list', 'films', 'category', 'unwatchable', 'trash', 'films', 'bad', 'worst', 'kind', 'ones', 'unwatchable', 'suppose', 'like', 'supposed', 'good', 'sex', 'sequences', 'shocking', 'day', 'could', \"n't\", 'even', 'arouse', 'rabbit', 'called', 'controversial', 'politics', 'strictly', 'high', 'school', 'sophomore', 'amateur', 'night', 'marxism', 'film', 'self-consciously', 'arty', 'worst', 'sense', 'term', 'photography', 'harsh', 'grainy', 'black', 'white', 'scenes', 'focus', 'taken', 'wrong', 'angle', 'even', 'sound', 'bad', 'people', 'call', 'art', 'br', 'br'], [0]>\n"
     ]
    }
   ],
   "source": [
    "print(docs[5])"
   ]
  },
  {
   "cell_type": "code",
   "execution_count": 12,
   "metadata": {},
   "outputs": [],
   "source": [
    "model = Doc2Vec(vector_size=100, min_count=2, epochs=50)"
   ]
  },
  {
   "cell_type": "code",
   "execution_count": 13,
   "metadata": {},
   "outputs": [],
   "source": [
    "model.build_vocab(docs)"
   ]
  },
  {
   "cell_type": "code",
   "execution_count": 14,
   "metadata": {},
   "outputs": [
    {
     "data": {
      "text/plain": [
       "25000"
      ]
     },
     "execution_count": 14,
     "metadata": {},
     "output_type": "execute_result"
    }
   ],
   "source": [
    "model.corpus_count"
   ]
  },
  {
   "cell_type": "code",
   "execution_count": 15,
   "metadata": {},
   "outputs": [
    {
     "data": {
      "text/plain": [
       "50"
      ]
     },
     "execution_count": 15,
     "metadata": {},
     "output_type": "execute_result"
    }
   ],
   "source": [
    "model.epochs"
   ]
  },
  {
   "cell_type": "code",
   "execution_count": 13,
   "metadata": {},
   "outputs": [],
   "source": [
    "model.train(docs, total_examples=model.corpus_count, epochs=model.epochs)"
   ]
  },
  {
   "cell_type": "code",
   "execution_count": 14,
   "metadata": {},
   "outputs": [],
   "source": [
    "model.save(\"Models/d2v\")"
   ]
  },
  {
   "cell_type": "code",
   "execution_count": 15,
   "metadata": {},
   "outputs": [
    {
     "data": {
      "text/plain": [
       "array([-0.67601943,  0.93965364,  0.97789127,  0.8170497 , -0.10962925,\n",
       "       -0.99066156, -1.3751618 , -0.12664947,  0.46178648, -0.33643317,\n",
       "        0.54485947,  2.0527635 , -2.1078134 ,  0.4092491 , -1.0821798 ,\n",
       "       -0.70922816,  0.23238902,  0.46199992, -1.4246432 ,  0.5670182 ,\n",
       "       -3.694571  , -0.6030176 ,  1.6715662 ,  1.3273951 ,  3.4087079 ,\n",
       "       -2.1526668 , -1.4068826 , -2.026342  , -1.3571855 , -0.17524837,\n",
       "        0.20602168, -0.06980582,  0.4116473 , -0.93217504, -1.3114256 ,\n",
       "        1.177796  , -0.917384  , -0.72466713, -0.31843653,  0.74867594,\n",
       "       -0.9680626 ,  1.6507361 , -0.17520931, -2.4065385 , -0.6273512 ,\n",
       "       -0.62019545, -0.50292546, -0.5915153 ,  1.3275881 , -0.82715756,\n",
       "       -0.8632329 ,  0.3381379 , -0.02008809, -1.189614  , -1.697198  ,\n",
       "        2.5297508 ,  0.25109625, -1.3971705 , -1.9840455 , -0.32655463,\n",
       "       -0.9176103 ,  2.5087218 ,  1.4125646 , -1.0020009 , -1.3469801 ,\n",
       "       -0.9717302 ,  1.1538336 ,  0.13108045, -0.44742957, -0.76657593,\n",
       "       -0.9877332 ,  0.6624576 , -0.17363703,  0.32350352, -0.5907391 ,\n",
       "       -0.22713086, -2.629291  , -1.0162086 ,  0.11506034,  1.0257196 ,\n",
       "        2.598158  ,  0.63878536, -2.1268187 , -0.27409968,  2.8822522 ,\n",
       "        0.43135366, -0.03047702,  0.10078342,  0.09342375, -1.1284369 ,\n",
       "       -0.06942716,  2.5153089 , -0.911126  , -1.0513234 ,  1.3417273 ,\n",
       "        2.646174  ,  1.7919858 , -1.9798294 ,  0.9358436 , -0.93393344],\n",
       "      dtype=float32)"
      ]
     },
     "execution_count": 15,
     "metadata": {},
     "output_type": "execute_result"
    }
   ],
   "source": [
    "model.infer_vector(docs[7].words)"
   ]
  },
  {
   "cell_type": "code",
   "execution_count": 16,
   "metadata": {},
   "outputs": [],
   "source": [
    "training_X = []\n",
    "training_y = []"
   ]
  },
  {
   "cell_type": "code",
   "execution_count": 17,
   "metadata": {},
   "outputs": [],
   "source": [
    "for doc in docs:\n",
    "    training_X.append(doc.words)\n",
    "    training_y.append(doc.tags[0])"
   ]
  },
  {
   "cell_type": "code",
   "execution_count": 18,
   "metadata": {},
   "outputs": [],
   "source": [
    "x_arr = np.zeros((len(docs),100))"
   ]
  },
  {
   "cell_type": "code",
   "execution_count": 19,
   "metadata": {},
   "outputs": [],
   "source": [
    "for i in range(len(training_X)):\n",
    "    x_arr[i] = model.infer_vector(training_X[i])"
   ]
  },
  {
   "cell_type": "code",
   "execution_count": 23,
   "metadata": {},
   "outputs": [
    {
     "data": {
      "text/html": [
       "<style>#sk-container-id-1 {color: black;}#sk-container-id-1 pre{padding: 0;}#sk-container-id-1 div.sk-toggleable {background-color: white;}#sk-container-id-1 label.sk-toggleable__label {cursor: pointer;display: block;width: 100%;margin-bottom: 0;padding: 0.3em;box-sizing: border-box;text-align: center;}#sk-container-id-1 label.sk-toggleable__label-arrow:before {content: \"▸\";float: left;margin-right: 0.25em;color: #696969;}#sk-container-id-1 label.sk-toggleable__label-arrow:hover:before {color: black;}#sk-container-id-1 div.sk-estimator:hover label.sk-toggleable__label-arrow:before {color: black;}#sk-container-id-1 div.sk-toggleable__content {max-height: 0;max-width: 0;overflow: hidden;text-align: left;background-color: #f0f8ff;}#sk-container-id-1 div.sk-toggleable__content pre {margin: 0.2em;color: black;border-radius: 0.25em;background-color: #f0f8ff;}#sk-container-id-1 input.sk-toggleable__control:checked~div.sk-toggleable__content {max-height: 200px;max-width: 100%;overflow: auto;}#sk-container-id-1 input.sk-toggleable__control:checked~label.sk-toggleable__label-arrow:before {content: \"▾\";}#sk-container-id-1 div.sk-estimator input.sk-toggleable__control:checked~label.sk-toggleable__label {background-color: #d4ebff;}#sk-container-id-1 div.sk-label input.sk-toggleable__control:checked~label.sk-toggleable__label {background-color: #d4ebff;}#sk-container-id-1 input.sk-hidden--visually {border: 0;clip: rect(1px 1px 1px 1px);clip: rect(1px, 1px, 1px, 1px);height: 1px;margin: -1px;overflow: hidden;padding: 0;position: absolute;width: 1px;}#sk-container-id-1 div.sk-estimator {font-family: monospace;background-color: #f0f8ff;border: 1px dotted black;border-radius: 0.25em;box-sizing: border-box;margin-bottom: 0.5em;}#sk-container-id-1 div.sk-estimator:hover {background-color: #d4ebff;}#sk-container-id-1 div.sk-parallel-item::after {content: \"\";width: 100%;border-bottom: 1px solid gray;flex-grow: 1;}#sk-container-id-1 div.sk-label:hover label.sk-toggleable__label {background-color: #d4ebff;}#sk-container-id-1 div.sk-serial::before {content: \"\";position: absolute;border-left: 1px solid gray;box-sizing: border-box;top: 0;bottom: 0;left: 50%;z-index: 0;}#sk-container-id-1 div.sk-serial {display: flex;flex-direction: column;align-items: center;background-color: white;padding-right: 0.2em;padding-left: 0.2em;position: relative;}#sk-container-id-1 div.sk-item {position: relative;z-index: 1;}#sk-container-id-1 div.sk-parallel {display: flex;align-items: stretch;justify-content: center;background-color: white;position: relative;}#sk-container-id-1 div.sk-item::before, #sk-container-id-1 div.sk-parallel-item::before {content: \"\";position: absolute;border-left: 1px solid gray;box-sizing: border-box;top: 0;bottom: 0;left: 50%;z-index: -1;}#sk-container-id-1 div.sk-parallel-item {display: flex;flex-direction: column;z-index: 1;position: relative;background-color: white;}#sk-container-id-1 div.sk-parallel-item:first-child::after {align-self: flex-end;width: 50%;}#sk-container-id-1 div.sk-parallel-item:last-child::after {align-self: flex-start;width: 50%;}#sk-container-id-1 div.sk-parallel-item:only-child::after {width: 0;}#sk-container-id-1 div.sk-dashed-wrapped {border: 1px dashed gray;margin: 0 0.4em 0.5em 0.4em;box-sizing: border-box;padding-bottom: 0.4em;background-color: white;}#sk-container-id-1 div.sk-label label {font-family: monospace;font-weight: bold;display: inline-block;line-height: 1.2em;}#sk-container-id-1 div.sk-label-container {text-align: center;}#sk-container-id-1 div.sk-container {/* jupyter's `normalize.less` sets `[hidden] { display: none; }` but bootstrap.min.css set `[hidden] { display: none !important; }` so we also need the `!important` here to be able to override the default hidden behavior on the sphinx rendered scikit-learn.org. See: https://github.com/scikit-learn/scikit-learn/issues/21755 */display: inline-block !important;position: relative;}#sk-container-id-1 div.sk-text-repr-fallback {display: none;}</style><div id=\"sk-container-id-1\" class=\"sk-top-container\"><div class=\"sk-text-repr-fallback\"><pre>LogisticRegression()</pre><b>In a Jupyter environment, please rerun this cell to show the HTML representation or trust the notebook. <br />On GitHub, the HTML representation is unable to render, please try loading this page with nbviewer.org.</b></div><div class=\"sk-container\" hidden><div class=\"sk-item\"><div class=\"sk-estimator sk-toggleable\"><input class=\"sk-toggleable__control sk-hidden--visually\" id=\"sk-estimator-id-1\" type=\"checkbox\" checked><label for=\"sk-estimator-id-1\" class=\"sk-toggleable__label sk-toggleable__label-arrow\">LogisticRegression</label><div class=\"sk-toggleable__content\"><pre>LogisticRegression()</pre></div></div></div></div></div>"
      ],
      "text/plain": [
       "LogisticRegression()"
      ]
     },
     "execution_count": 23,
     "metadata": {},
     "output_type": "execute_result"
    }
   ],
   "source": [
    "lgr = LogisticRegression()\n",
    "lgr.fit(x_arr,training_y)"
   ]
  },
  {
   "cell_type": "code",
   "execution_count": 26,
   "metadata": {},
   "outputs": [
    {
     "data": {
      "text/plain": [
       "array([0])"
      ]
     },
     "execution_count": 26,
     "metadata": {},
     "output_type": "execute_result"
    }
   ],
   "source": [
    "lgr.predict(x_arr[10].reshape(1,-1))"
   ]
  },
  {
   "cell_type": "code",
   "execution_count": 27,
   "metadata": {},
   "outputs": [],
   "source": [
    "x_test = np.zeros((imdb_test.shape[0],100))\n",
    "y_test = np.zeros(imdb_test.shape[0])"
   ]
  },
  {
   "cell_type": "code",
   "execution_count": 31,
   "metadata": {},
   "outputs": [],
   "source": [
    "idx = 0\n",
    "for t in imdb_test:\n",
    "    processed_text = process_text(t)\n",
    "    vct = model.infer_vector(processed_text)\n",
    "    x_test[idx] = vct\n",
    "    y_test[idx] = t['label']\n",
    "    idx += 1"
   ]
  },
  {
   "cell_type": "code",
   "execution_count": 33,
   "metadata": {},
   "outputs": [
    {
     "name": "stdout",
     "output_type": "stream",
     "text": [
      "[[-0.79555535  1.58359873  1.25062001  0.43698427  0.53575784 -0.9378283\n",
      "   0.37233049 -0.41609702  1.19482076 -1.35438955  1.35854256  0.40980822\n",
      "  -0.89469182  0.70664155  0.88739145 -0.22871792  0.48716381 -0.41121709\n",
      "  -2.36034632  2.64456868 -0.26536545 -1.0380981   0.11961165  3.44253945\n",
      "   3.01575994 -1.03065574 -0.95411897 -0.00673487  0.28041366 -0.63625789\n",
      "   1.14203644  0.55029058 -0.66773772 -0.45196268 -0.15259083 -0.74103934\n",
      "   0.61703199 -1.15230823 -1.12608504  2.04952574 -0.55084699 -0.47903171\n",
      "  -1.29100502 -2.28025889 -1.20470333  1.50976396  0.65362912  0.86997867\n",
      "   0.44186091  0.09131063  1.12809777 -1.16487277  2.37690163 -0.24818978\n",
      "  -0.25535709  0.68692905 -0.03259113 -0.28290048 -0.90286255 -0.03442962\n",
      "   2.55789709 -0.20829272 -0.34281975 -0.77076715 -1.72009063 -1.87578499\n",
      "   0.46475857  1.22199512 -0.30730927  0.37041128  0.41026881  3.50078988\n",
      "  -1.71883607  0.50733852 -0.88497061  1.87057912 -1.87126911 -1.37723303\n",
      "  -2.46489358  1.69312561  0.8017717  -0.33770362 -2.48915744 -1.86060214\n",
      "   0.70699203  1.9491359   0.10312928 -0.16895732 -1.30798566 -1.9837693\n",
      "  -0.28683007  0.82826477 -2.80044937 -0.15085794 -0.4777967   3.41662216\n",
      "   0.93286675 -0.9445526  -0.66507077 -0.38249177]\n",
      " [-1.18449366  0.71858603  0.08989064 -0.03638897 -0.67002928  0.55981213\n",
      "  -0.99107432  1.321262   -1.09586298 -0.00665529 -0.07229667 -0.35657683\n",
      "  -1.20150697 -0.10128932 -1.54342878 -0.95969772  0.95914298  0.37140128\n",
      "  -0.98955905 -1.77864552 -0.02507515  1.43385553  0.80473125  1.85389018\n",
      "   1.76591623 -1.47428    -0.38512492 -0.01977658 -0.13892303 -0.98783714\n",
      "  -0.97228336 -1.00441742  0.6423654  -0.60967022  0.77638042  1.72582483\n",
      "  -0.49676272 -1.17600119  1.24007785 -0.60208309  1.77761281 -1.32211626\n",
      "  -1.30278969 -2.18916273  0.77681887 -0.42402998 -2.19675517  0.20738511\n",
      "  -0.20274512 -0.92963856  0.75000745 -0.03251357 -1.22129512 -1.45565414\n",
      "  -1.14676404 -0.19511296  0.96782839  0.30713338 -1.8905412   0.01576246\n",
      "  -0.33573356 -1.1547327   0.29728699  0.05310749 -0.95256245 -0.92271233\n",
      "   0.3926158   1.30515015 -3.10024309 -0.82289994 -0.17797647 -0.04322315\n",
      "   1.18982506  1.0245775  -0.54285228 -1.06029975  0.05488939 -1.32726371\n",
      "  -0.74974531  0.8754704   1.32301593  1.22245252 -1.43006015 -1.04112208\n",
      "   0.89673328 -1.50796556  1.2428267   0.0484601  -0.33544752  0.44107723\n",
      "  -1.14381719  2.49950933 -0.00794401 -1.99910009 -0.56493336  2.39790034\n",
      "  -1.30721974 -0.91428566 -0.20259635  0.65066403]\n",
      " [-0.36097506  1.88306153  2.79881334 -1.13340306 -1.28470826  2.79811788\n",
      "   0.84330279 -0.75087184  0.42215267 -1.68151569  0.90642673 -0.49842939\n",
      "   1.35592794 -3.36350822 -2.68659186 -0.7114265   0.5147081   2.40931773\n",
      "  -1.24683797 -1.69992256 -0.62496495  0.58936369 -0.97908747  1.48535335\n",
      "   0.53841054 -2.37605453  0.32246301 -1.11356366  0.46077806 -1.08212864\n",
      "  -1.10609055  1.29486215 -0.31694657 -1.10930073 -1.93274093 -0.59194738\n",
      "  -0.45549035 -2.00377178 -3.21152472  0.0263919   1.81731355  0.0456146\n",
      "   4.22083712 -1.15495682  1.80228603  0.73114657  1.0184375  -1.58483458\n",
      "  -0.19200642  0.76299036 -1.93458414 -0.2802332  -2.89017987 -0.42023265\n",
      "  -1.06951809  2.71816993  0.18184853 -1.26028061 -1.26337147  2.05089879\n",
      "   0.33475757  1.32853496  0.41611916  0.32727802  0.2344629  -2.75786686\n",
      "   1.43327141 -0.85469711 -0.80277377 -0.94950384  0.47297901 -0.99763817\n",
      "  -0.21357381 -0.35426599 -0.19953847 -1.72266448 -2.68180442  1.13924527\n",
      "  -1.1187948   0.33801523  1.14229476 -0.79805481 -0.21175115 -0.83850533\n",
      "  -0.34189165  1.99032414  0.83808893 -0.11876044  0.43488091 -1.68336821\n",
      "  -1.12222803  0.81052339 -3.87092853 -1.86747086 -2.63467717  0.85285699\n",
      "  -0.61751616  0.95083785  0.52567059 -1.09379959]]\n"
     ]
    }
   ],
   "source": [
    "print(x_test[:3])"
   ]
  },
  {
   "cell_type": "code",
   "execution_count": 40,
   "metadata": {},
   "outputs": [],
   "source": [
    "predicted_probs = lgr.predict_proba(x_test)"
   ]
  },
  {
   "cell_type": "code",
   "execution_count": 41,
   "metadata": {},
   "outputs": [],
   "source": [
    "ll = log_loss(y_test,predicted_probs)"
   ]
  },
  {
   "cell_type": "code",
   "execution_count": 42,
   "metadata": {},
   "outputs": [
    {
     "data": {
      "text/plain": [
       "0.6587455265331927"
      ]
     },
     "execution_count": 42,
     "metadata": {},
     "output_type": "execute_result"
    }
   ],
   "source": [
    "ll"
   ]
  },
  {
   "cell_type": "code",
   "execution_count": 43,
   "metadata": {},
   "outputs": [],
   "source": [
    "predicted = lgr.predict(x_test)"
   ]
  },
  {
   "cell_type": "code",
   "execution_count": 47,
   "metadata": {},
   "outputs": [
    {
     "data": {
      "text/plain": [
       "array([[2113,  387],\n",
       "       [ 520, 1980]], dtype=int64)"
      ]
     },
     "execution_count": 47,
     "metadata": {},
     "output_type": "execute_result"
    }
   ],
   "source": [
    "confusion_matrix(y_test,predicted)"
   ]
  },
  {
   "cell_type": "code",
   "execution_count": 50,
   "metadata": {},
   "outputs": [],
   "source": [
    "ps = precision_score(y_test,predicted)"
   ]
  },
  {
   "cell_type": "code",
   "execution_count": 51,
   "metadata": {},
   "outputs": [
    {
     "data": {
      "text/plain": [
       "0.8365019011406845"
      ]
     },
     "execution_count": 51,
     "metadata": {},
     "output_type": "execute_result"
    }
   ],
   "source": [
    "ps"
   ]
  },
  {
   "cell_type": "code",
   "execution_count": 52,
   "metadata": {},
   "outputs": [],
   "source": [
    "rc = recall_score(y_test,predicted)"
   ]
  },
  {
   "cell_type": "code",
   "execution_count": 53,
   "metadata": {},
   "outputs": [
    {
     "data": {
      "text/plain": [
       "0.792"
      ]
     },
     "execution_count": 53,
     "metadata": {},
     "output_type": "execute_result"
    }
   ],
   "source": [
    "rc"
   ]
  },
  {
   "cell_type": "code",
   "execution_count": 54,
   "metadata": {},
   "outputs": [],
   "source": [
    "ac = accuracy_score(y_test,predicted)"
   ]
  },
  {
   "cell_type": "code",
   "execution_count": 55,
   "metadata": {},
   "outputs": [
    {
     "data": {
      "text/plain": [
       "0.8186"
      ]
     },
     "execution_count": 55,
     "metadata": {},
     "output_type": "execute_result"
    }
   ],
   "source": [
    "ac"
   ]
  },
  {
   "cell_type": "code",
   "execution_count": 58,
   "metadata": {},
   "outputs": [],
   "source": [
    "f1 = f1_score(y_test,predicted)"
   ]
  },
  {
   "cell_type": "code",
   "execution_count": 59,
   "metadata": {},
   "outputs": [
    {
     "data": {
      "text/plain": [
       "0.8136429011711528"
      ]
     },
     "execution_count": 59,
     "metadata": {},
     "output_type": "execute_result"
    }
   ],
   "source": [
    "f1"
   ]
  }
 ],
 "metadata": {
  "kernelspec": {
   "display_name": "nlprep",
   "language": "python",
   "name": "python3"
  },
  "language_info": {
   "codemirror_mode": {
    "name": "ipython",
    "version": 3
   },
   "file_extension": ".py",
   "mimetype": "text/x-python",
   "name": "python",
   "nbconvert_exporter": "python",
   "pygments_lexer": "ipython3",
   "version": "3.9.18"
  }
 },
 "nbformat": 4,
 "nbformat_minor": 2
}
